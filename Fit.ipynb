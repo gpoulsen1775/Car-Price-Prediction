{
 "cells": [
  {
   "cell_type": "code",
   "execution_count": 118,
   "metadata": {},
   "outputs": [],
   "source": [
    "#Import Libraries\n",
    "import pandas as pd\n",
    "import numpy as np\n",
    "from matplotlib import pyplot as plt\n",
    "import seaborn as sns"
   ]
  },
  {
   "cell_type": "code",
   "execution_count": 119,
   "metadata": {},
   "outputs": [],
   "source": [
    "#Make Gradient Descent With exponentially weighted learning constants\n",
    "def GradientDescent(ptWiseGradient,data,parameter0,tol,N):\n",
    "    \n",
    "    alpha = .01\n",
    "    beta = .9\n",
    "    \n",
    "    iteration = 0\n",
    "    directionOfDescent = 0\n",
    "    \n",
    "    while(iteration<N):        \n",
    "\n",
    "        gradient = 0\n",
    "        rows = 0\n",
    "        for row in data:\n",
    "            rows = rows + 1\n",
    "            gradient = gradient + ptWiseGradient(parameter0,row)\n",
    "        \n",
    "        gradient = gradient / rows\n",
    "        directionOfDescent = beta * directionOfDescent + (1-beta)*gradient\n",
    "        previousParams = parameter0\n",
    "        parameter0 = parameter0 - alpha * directionOfDescent\n",
    "        iteration = iteration + 1\n",
    "        \n",
    "        if(np.linalg.norm((parameter0-previousParams),2) < tol):\n",
    "            \n",
    "            print('Converged on iteration: ' + str(iteration))\n",
    "            return parameter0\n",
    "\n",
    "    print(\"Did not converge\")\n",
    "    return paramter0"
   ]
  }
 ],
 "metadata": {
  "kernelspec": {
   "display_name": "Python 3",
   "language": "python",
   "name": "python3"
  },
  "language_info": {
   "codemirror_mode": {
    "name": "ipython",
    "version": 3
   },
   "file_extension": ".py",
   "mimetype": "text/x-python",
   "name": "python",
   "nbconvert_exporter": "python",
   "pygments_lexer": "ipython3",
   "version": "3.8.5"
  }
 },
 "nbformat": 4,
 "nbformat_minor": 4
}
